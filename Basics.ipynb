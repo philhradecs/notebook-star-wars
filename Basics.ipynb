{
 "cells": [
  {
   "cell_type": "markdown",
   "metadata": {},
   "source": [
    "# Star Wars Survey\n",
    "**\"Does the rest of America realize that “The Empire Strikes Back” is clearly the best of the bunch?\"**  \n",
    "\n",
    "*835 survey responses*"
   ]
  },
  {
   "cell_type": "code",
   "execution_count": 150,
   "metadata": {
    "collapsed": false
   },
   "outputs": [],
   "source": [
    "import pandas as pd\n",
    "import seaborn as sns\n",
    "%matplotlib inline\n",
    "sns.set_style('whitegrid')"
   ]
  },
  {
   "cell_type": "code",
   "execution_count": 151,
   "metadata": {
    "collapsed": false
   },
   "outputs": [],
   "source": [
    "star_wars = pd.read_csv(\"star_wars.csv\", encoding=\"ISO-8859-1\")\n",
    "star_wars = star_wars[pd.notnull(star_wars['RespondentID'])]"
   ]
  },
  {
   "cell_type": "markdown",
   "metadata": {},
   "source": [
    "### Convert Yes/No columns to Boolean"
   ]
  },
  {
   "cell_type": "code",
   "execution_count": 152,
   "metadata": {
    "collapsed": false
   },
   "outputs": [],
   "source": [
    "q_watched_col = \"Have you seen any of the 6 films in the Star Wars franchise?\"\n",
    "q_fan_col = \"Do you consider yourself to be a fan of the Star Wars film franchise?\"\n",
    "\n",
    "yes_no = {\n",
    "    \"Yes\": True,\n",
    "    \"No\": False\n",
    "}\n",
    "\n",
    "star_wars[q_watched_col] = star_wars[q_watched_col].map(yes_no)\n",
    "star_wars[q_fan_col] = star_wars[q_fan_col].map(yes_no)"
   ]
  },
  {
   "cell_type": "markdown",
   "metadata": {},
   "source": [
    "**Handle Multiple Choice questions**"
   ]
  },
  {
   "cell_type": "code",
   "execution_count": 153,
   "metadata": {
    "collapsed": false
   },
   "outputs": [],
   "source": [
    "def seen_cols():\n",
    "    return star_wars.columns[3:9]\n",
    "\n",
    "movie_eps = ['I', 'II', 'III', 'IV', 'V', 'VI']\n",
    "\n",
    "seen_name_dict = {}\n",
    "for idx, seen_col in enumerate(seen_cols()):\n",
    "    \n",
    "    # construct new shorter column name\n",
    "    seen_name_dict[seen_col] = 'seen_' + str(idx + 1)\n",
    "    \n",
    "    # cast column values to boolean based on whether \n",
    "    # value contains respective Star Wars episode name\n",
    "    star_wars[seen_col] = star_wars[seen_col].str.contains(movie_eps[idx], na=False)\n",
    "    \n",
    "star_wars = star_wars.rename(columns=seen_name_dict)"
   ]
  },
  {
   "cell_type": "markdown",
   "metadata": {},
   "source": [
    "**check cleaning result**"
   ]
  },
  {
   "cell_type": "code",
   "execution_count": 154,
   "metadata": {
    "collapsed": false,
    "scrolled": false
   },
   "outputs": [
    {
     "name": "stdout",
     "output_type": "stream",
     "text": [
      "True     673\n",
      "False    513\n",
      "Name: seen_1, dtype: int64\n",
      "\n",
      "False    615\n",
      "True     571\n",
      "Name: seen_2, dtype: int64\n",
      "\n",
      "False    636\n",
      "True     550\n",
      "Name: seen_3, dtype: int64\n",
      "\n",
      "True     607\n",
      "False    579\n",
      "Name: seen_4, dtype: int64\n",
      "\n",
      "True     758\n",
      "False    428\n",
      "Name: seen_5, dtype: int64\n",
      "\n",
      "True     738\n",
      "False    448\n",
      "Name: seen_6, dtype: int64\n",
      "\n"
     ]
    }
   ],
   "source": [
    "for col in seen_cols():\n",
    "    print(\"{}\\n\".format(star_wars[col].value_counts(dropna=False)))"
   ]
  },
  {
   "cell_type": "markdown",
   "metadata": {
    "collapsed": true
   },
   "source": [
    "### Convert Ranking Columns to Float"
   ]
  },
  {
   "cell_type": "code",
   "execution_count": 155,
   "metadata": {
    "collapsed": false
   },
   "outputs": [],
   "source": [
    "def ranking_cols():\n",
    "    return star_wars.columns[9:15]\n",
    "\n",
    "star_wars[ranking_cols()] = star_wars[ranking_cols()].astype(float)"
   ]
  },
  {
   "cell_type": "code",
   "execution_count": 156,
   "metadata": {
    "collapsed": false
   },
   "outputs": [],
   "source": [
    "ranking_name_dict = {}\n",
    "for idx, ranking_col in enumerate(ranking_cols()):\n",
    "    # construct new shorter column name\n",
    "    ranking_name_dict[ranking_col] = 'ranking_' + str(idx + 1)\n",
    "     \n",
    "star_wars = star_wars.rename(columns=ranking_name_dict)"
   ]
  },
  {
   "cell_type": "markdown",
   "metadata": {},
   "source": [
    "**check cleaning result**"
   ]
  },
  {
   "cell_type": "code",
   "execution_count": 157,
   "metadata": {
    "collapsed": false,
    "scrolled": true
   },
   "outputs": [
    {
     "name": "stdout",
     "output_type": "stream",
     "text": [
      " 1.0    129\n",
      " 2.0     71\n",
      " 3.0    130\n",
      " 4.0    237\n",
      " 5.0    100\n",
      " 6.0    168\n",
      "NaN     351\n",
      "Name: ranking_1, dtype: int64\n",
      "\n",
      " 1.0     32\n",
      " 2.0    116\n",
      " 3.0    103\n",
      " 4.0    183\n",
      " 5.0    300\n",
      " 6.0    102\n",
      "NaN     350\n",
      "Name: ranking_2, dtype: int64\n",
      "\n",
      " 1.0     36\n",
      " 2.0     47\n",
      " 3.0    150\n",
      " 4.0    182\n",
      " 5.0    203\n",
      " 6.0    217\n",
      "NaN     351\n",
      "Name: ranking_3, dtype: int64\n",
      "\n",
      " 1.0    204\n",
      " 2.0    135\n",
      " 3.0    127\n",
      " 4.0    130\n",
      " 5.0     79\n",
      " 6.0    161\n",
      "NaN     350\n",
      "Name: ranking_4, dtype: int64\n",
      "\n",
      " 1.0    289\n",
      " 2.0    235\n",
      " 3.0    106\n",
      " 4.0     47\n",
      " 5.0    118\n",
      " 6.0     41\n",
      "NaN     350\n",
      "Name: ranking_5, dtype: int64\n",
      "\n",
      " 1.0    146\n",
      " 2.0    232\n",
      " 3.0    220\n",
      " 4.0     57\n",
      " 5.0     36\n",
      " 6.0    145\n",
      "NaN     350\n",
      "Name: ranking_6, dtype: int64\n",
      "\n"
     ]
    }
   ],
   "source": [
    "for col in ranking_cols():\n",
    "    print(\"{}\\n\".format(star_wars[col].value_counts(dropna=False).sort_index()))"
   ]
  },
  {
   "cell_type": "markdown",
   "metadata": {},
   "source": [
    "### top-ranked movie"
   ]
  },
  {
   "cell_type": "code",
   "execution_count": 158,
   "metadata": {
    "collapsed": false
   },
   "outputs": [
    {
     "data": {
      "text/plain": [
       "ranking_1    3.732934\n",
       "ranking_2    4.087321\n",
       "ranking_3    4.341317\n",
       "ranking_4    3.272727\n",
       "ranking_5    2.513158\n",
       "ranking_6    3.047847\n",
       "dtype: float64"
      ]
     },
     "execution_count": 158,
     "metadata": {},
     "output_type": "execute_result"
    }
   ],
   "source": [
    "mean_ranking = star_wars[ranking_cols()].mean()\n",
    "mean_ranking"
   ]
  },
  {
   "cell_type": "code",
   "execution_count": 159,
   "metadata": {
    "collapsed": false
   },
   "outputs": [
    {
     "data": {
      "image/png": "[encoded data removed]",
      "text/plain": [
       "<matplotlib.figure.Figure at 0x7f26523cfe10>"
      ]
     },
     "metadata": {},
     "output_type": "display_data"
    }
   ],
   "source": [
    "ax = mean_ranking\\\n",
    "    .plot.barh(title='Star Wars movies ranked\\n(lower is better)')\n",
    "    \n",
    "ax.set_xlabel('Mean Rank')\n",
    "ax.set_ylabel('Episodes I - VI');"
   ]
  },
  {
   "cell_type": "markdown",
   "metadata": {},
   "source": [
    "*Episode V* is the movie with the best mean ranking of 2.5<br> *Episode III* has the worst mean ranking of 4.4.\n",
    "\n",
    "Respondents were most consistent in their ranking of *Episode II and III* and most disagreeing about the ranking of *Episode IV*.\n",
    "\n",
    "A possible explanation could be derived from the order in which the movies came out.   \n",
    "Episodes 4-6 came out 20 years before Episodes 1-3.  \n",
    "\n",
    "The fact that many people would remember the 'old' movies from their childhood could explain the conflicting views about the first 'new' movie (*Episode IV*)  \n",
    "\n",
    "Furthermore, producing sci-fi movies with many special effects was a much bigger challenge in the late 70s than it was 20 years later. This could explain why none of the 'new' movies on average could beat the rankings of the 'old' movies."
   ]
  },
  {
   "cell_type": "code",
   "execution_count": 160,
   "metadata": {
    "collapsed": false
   },
   "outputs": [
    {
     "data": {
      "image/png": "[encoded data removed]",
      "text/plain": [
       "<matplotlib.figure.Figure at 0x7f2652732a90>"
      ]
     },
     "metadata": {},
     "output_type": "display_data"
    }
   ],
   "source": [
    "star_wars[ranking_cols()].std()\\\n",
    "    .plot.bar(sharex=True, sharey=True, title='Ranking Standard Deviation');"
   ]
  },
  {
   "cell_type": "markdown",
   "metadata": {
    "collapsed": true
   },
   "source": [
    "### most seen movies"
   ]
  },
  {
   "cell_type": "code",
   "execution_count": 161,
   "metadata": {
    "collapsed": false
   },
   "outputs": [
    {
     "data": {
      "text/plain": [
       "seen_5    758\n",
       "seen_6    738\n",
       "seen_1    673\n",
       "seen_4    607\n",
       "seen_2    571\n",
       "seen_3    550\n",
       "dtype: int64"
      ]
     },
     "execution_count": 161,
     "metadata": {},
     "output_type": "execute_result"
    }
   ],
   "source": [
    "sum_seen = star_wars[seen_cols()].sum()\n",
    "sum_seen.sort_values(ascending=False)"
   ]
  },
  {
   "cell_type": "code",
   "execution_count": 162,
   "metadata": {
    "collapsed": false
   },
   "outputs": [
    {
     "data": {
      "image/png": "[encoded data removed]",
      "text/plain": [
       "<matplotlib.figure.Figure at 0x7f26aa826400>"
      ]
     },
     "metadata": {},
     "output_type": "display_data"
    }
   ],
   "source": [
    "sum_seen.plot.bar(title='Seen Counts');"
   ]
  },
  {
   "cell_type": "code",
   "execution_count": 187,
   "metadata": {
    "collapsed": false
   },
   "outputs": [
    {
     "data": {
      "text/html": [
       "<div>\n",
       "<style scoped>\n",
       "    .dataframe tbody tr th:only-of-type {\n",
       "        vertical-align: middle;\n",
       "    }\n",
       "\n",
       "    .dataframe tbody tr th {\n",
       "        vertical-align: top;\n",
       "    }\n",
       "\n",
       "    .dataframe thead th {\n",
       "        text-align: right;\n",
       "    }\n",
       "</style>\n",
       "<table border=\"1\" class=\"dataframe\">\n",
       "  <thead>\n",
       "    <tr style=\"text-align: right;\">\n",
       "      <th></th>\n",
       "      <th>seen</th>\n",
       "      <th>ranking</th>\n",
       "    </tr>\n",
       "  </thead>\n",
       "  <tbody>\n",
       "    <tr>\n",
       "      <th>seen</th>\n",
       "      <td>1.000000</td>\n",
       "      <td>-0.878126</td>\n",
       "    </tr>\n",
       "    <tr>\n",
       "      <th>ranking</th>\n",
       "      <td>-0.878126</td>\n",
       "      <td>1.000000</td>\n",
       "    </tr>\n",
       "  </tbody>\n",
       "</table>\n",
       "</div>"
      ],
      "text/plain": [
       "             seen   ranking\n",
       "seen     1.000000 -0.878126\n",
       "ranking -0.878126  1.000000"
      ]
     },
     "execution_count": 187,
     "metadata": {},
     "output_type": "execute_result"
    }
   ],
   "source": [
    "c_seen = pd.Series(sum_seen.values, name='seen')\n",
    "c_ranking = pd.Series(mean_ranking.values, name='ranking')\n",
    "\n",
    "combined = pd.concat([c_seen, c_ranking], axis=1) \n",
    "combined.corr()"
   ]
  },
  {
   "cell_type": "markdown",
   "metadata": {},
   "source": [
    "The number of times a movie was seen correlates strongly with its ranking.\n",
    "If fewer people watched the 'new' movies (Episodes 1-3) than the 'old' movies (Episodes 4-6) then a number of people representing this difference would assign better ranks to the movies they have watched. Or, put differently: Rank 1 of 3 weighs less than Rank 1 of 6. This could slightly distort the analysis.  \n",
    "since "
   ]
  },
  {
   "cell_type": "code",
   "execution_count": null,
   "metadata": {
    "collapsed": true
   },
   "outputs": [],
   "source": []
  }
 ],
 "metadata": {
  "kernelspec": {
   "display_name": "Python 3",
   "language": "python",
   "name": "python3"
  },
  "language_info": {
   "codemirror_mode": {
    "name": "ipython",
    "version": 3
   },
   "file_extension": ".py",
   "mimetype": "text/x-python",
   "name": "python",
   "nbconvert_exporter": "python",
   "pygments_lexer": "ipython3",
   "version": "3.4.3"
  }
 },
 "nbformat": 4,
 "nbformat_minor": 0
}
