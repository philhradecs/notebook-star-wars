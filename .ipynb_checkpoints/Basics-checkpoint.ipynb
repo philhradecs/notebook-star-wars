{
 "cells": [
  {
   "cell_type": "markdown",
   "metadata": {},
   "source": [
    "# Star Wars Survey\n",
    "**\"Does the rest of America realize that “The Empire Strikes Back” is clearly the best of the bunch?\"**  \n",
    "\n",
    "*835 survey responses*"
   ]
  },
  {
   "cell_type": "code",
   "execution_count": 79,
   "metadata": {
    "collapsed": false
   },
   "outputs": [],
   "source": [
    "import pandas as pd\n",
    "import seaborn as sns\n",
    "%matplotlib inline"
   ]
  },
  {
   "cell_type": "code",
   "execution_count": 12,
   "metadata": {
    "collapsed": false
   },
   "outputs": [],
   "source": [
    "star_wars = pd.read_csv(\"star_wars.csv\", encoding=\"ISO-8859-1\")\n",
    "star_wars = star_wars[pd.notnull(star_wars['RespondentID'])]"
   ]
  },
  {
   "cell_type": "markdown",
   "metadata": {},
   "source": [
    "### Convert Yes/No columns to Boolean"
   ]
  },
  {
   "cell_type": "code",
   "execution_count": 13,
   "metadata": {
    "collapsed": false
   },
   "outputs": [],
   "source": [
    "q_watched_col = \"Have you seen any of the 6 films in the Star Wars franchise?\"\n",
    "q_fan_col = \"Do you consider yourself to be a fan of the Star Wars film franchise?\"\n",
    "\n",
    "yes_no = {\n",
    "    \"Yes\": True,\n",
    "    \"No\": False\n",
    "}\n",
    "\n",
    "star_wars[q_watched_col] = star_wars[q_watched_col].map(yes_no)\n",
    "star_wars[q_fan_col] = star_wars[q_fan_col].map(yes_no)"
   ]
  },
  {
   "cell_type": "markdown",
   "metadata": {},
   "source": [
    "**Handle Multiple Choice questions**"
   ]
  },
  {
   "cell_type": "code",
   "execution_count": 14,
   "metadata": {
    "collapsed": false
   },
   "outputs": [],
   "source": [
    "seen_cols = star_wars.columns[3:9]\n",
    "movie_eps = ['I', 'II', 'III', 'IV', 'V', 'VI']\n",
    "\n",
    "seen_name_dict = {}\n",
    "for idx, seen_col in enumerate(seen_cols):\n",
    "    \n",
    "    # construct new shorter column name\n",
    "    seen_name_dict[seen_col] = 'seen_' + str(idx + 1)\n",
    "    \n",
    "    # cast column values to boolean based on whether \n",
    "    # value contains respective Star Wars episode name\n",
    "    star_wars[seen_col] = star_wars[seen_col].str.contains(movie_eps[idx], na=False)\n",
    "    \n",
    "star_wars = star_wars.rename(columns=seen_name_dict)"
   ]
  },
  {
   "cell_type": "markdown",
   "metadata": {},
   "source": [
    "**check cleaning result**"
   ]
  },
  {
   "cell_type": "code",
   "execution_count": 15,
   "metadata": {
    "collapsed": false,
    "scrolled": false
   },
   "outputs": [
    {
     "name": "stdout",
     "output_type": "stream",
     "text": [
      "True     673\n",
      "False    513\n",
      "Name: seen_1, dtype: int64\n",
      "\n",
      "False    615\n",
      "True     571\n",
      "Name: seen_2, dtype: int64\n",
      "\n",
      "False    636\n",
      "True     550\n",
      "Name: seen_3, dtype: int64\n",
      "\n",
      "True     607\n",
      "False    579\n",
      "Name: seen_4, dtype: int64\n",
      "\n",
      "True     758\n",
      "False    428\n",
      "Name: seen_5, dtype: int64\n",
      "\n",
      "True     738\n",
      "False    448\n",
      "Name: seen_6, dtype: int64\n",
      "\n"
     ]
    }
   ],
   "source": [
    "for col in star_wars.columns[3:9]:\n",
    "    print(\"{}\\n\".format(star_wars[col].value_counts(dropna=False)))"
   ]
  },
  {
   "cell_type": "markdown",
   "metadata": {
    "collapsed": true
   },
   "source": [
    "### Convert Ranking Columns to Float"
   ]
  },
  {
   "cell_type": "code",
   "execution_count": 18,
   "metadata": {
    "collapsed": false
   },
   "outputs": [],
   "source": [
    "ranking_cols = star_wars.columns[9:15]\n",
    "star_wars[ranking_cols] = star_wars[ranking_cols].astype(float)"
   ]
  },
  {
   "cell_type": "code",
   "execution_count": 21,
   "metadata": {
    "collapsed": false
   },
   "outputs": [],
   "source": [
    "ranking_cols = star_wars.columns[9:15]\n",
    "\n",
    "ranking_name_dict = {}\n",
    "for idx, ranking_col in enumerate(ranking_cols):\n",
    "    # construct new shorter column name\n",
    "    ranking_name_dict[ranking_col] = 'ranking_' + str(idx + 1)\n",
    "     \n",
    "star_wars = star_wars.rename(columns=ranking_name_dict)"
   ]
  },
  {
   "cell_type": "markdown",
   "metadata": {},
   "source": [
    "**check cleaning result**"
   ]
  },
  {
   "cell_type": "code",
   "execution_count": 24,
   "metadata": {
    "collapsed": false,
    "scrolled": true
   },
   "outputs": [
    {
     "name": "stdout",
     "output_type": "stream",
     "text": [
      " 1.0    129\n",
      " 2.0     71\n",
      " 3.0    130\n",
      " 4.0    237\n",
      " 5.0    100\n",
      " 6.0    168\n",
      "NaN     351\n",
      "Name: ranking_1, dtype: int64\n",
      "\n",
      " 1.0     32\n",
      " 2.0    116\n",
      " 3.0    103\n",
      " 4.0    183\n",
      " 5.0    300\n",
      " 6.0    102\n",
      "NaN     350\n",
      "Name: ranking_2, dtype: int64\n",
      "\n",
      " 1.0     36\n",
      " 2.0     47\n",
      " 3.0    150\n",
      " 4.0    182\n",
      " 5.0    203\n",
      " 6.0    217\n",
      "NaN     351\n",
      "Name: ranking_3, dtype: int64\n",
      "\n",
      " 1.0    204\n",
      " 2.0    135\n",
      " 3.0    127\n",
      " 4.0    130\n",
      " 5.0     79\n",
      " 6.0    161\n",
      "NaN     350\n",
      "Name: ranking_4, dtype: int64\n",
      "\n",
      " 1.0    289\n",
      " 2.0    235\n",
      " 3.0    106\n",
      " 4.0     47\n",
      " 5.0    118\n",
      " 6.0     41\n",
      "NaN     350\n",
      "Name: ranking_5, dtype: int64\n",
      "\n",
      " 1.0    146\n",
      " 2.0    232\n",
      " 3.0    220\n",
      " 4.0     57\n",
      " 5.0     36\n",
      " 6.0    145\n",
      "NaN     350\n",
      "Name: ranking_6, dtype: int64\n",
      "\n"
     ]
    }
   ],
   "source": [
    "for col in star_wars.columns[9:15]:\n",
    "    print(\"{}\\n\".format(star_wars[col].value_counts(dropna=False).sort_index()))"
   ]
  },
  {
   "cell_type": "markdown",
   "metadata": {},
   "source": [
    "### top-ranked movie"
   ]
  },
  {
   "cell_type": "code",
   "execution_count": 46,
   "metadata": {
    "collapsed": false
   },
   "outputs": [
    {
     "data": {
      "text/plain": [
       "ranking_1    3.732934\n",
       "ranking_2    4.087321\n",
       "ranking_3    4.341317\n",
       "ranking_4    3.272727\n",
       "ranking_5    2.513158\n",
       "ranking_6    3.047847\n",
       "dtype: float64"
      ]
     },
     "execution_count": 46,
     "metadata": {},
     "output_type": "execute_result"
    }
   ],
   "source": [
    "mean_ranking = star_wars[ranking_cols].mean()\n",
    "mean_ranking"
   ]
  },
  {
   "cell_type": "code",
   "execution_count": 90,
   "metadata": {
    "collapsed": false
   },
   "outputs": [
    {
     "data": {
      "image/png": "[encoded data removed]",
      "text/plain": [
       "<matplotlib.figure.Figure at 0x7f3f781e7f28>"
      ]
     },
     "metadata": {},
     "output_type": "display_data"
    }
   ],
   "source": [
    "ax = mean_ranking.sort_index(ascending=False)\\\n",
    "    .plot.barh(title='Star Wars movies ranked\\n(lower is better)')\n",
    "    \n",
    "ax.set_xlabel('Mean Rank')\n",
    "ax.set_ylabel('Episodes I - VI');"
   ]
  },
  {
   "cell_type": "markdown",
   "metadata": {},
   "source": [
    "*Episode V* is the movie with the best mean ranking of 2.5 *Episode III* has the worst mean ranking of 4.4."
   ]
  },
  {
   "cell_type": "code",
   "execution_count": 92,
   "metadata": {
    "collapsed": false
   },
   "outputs": [
    {
     "data": {
      "image/png": "[encoded data removed]",
      "text/plain": [
       "<matplotlib.figure.Figure at 0x7f3f780b4ba8>"
      ]
     },
     "metadata": {},
     "output_type": "display_data"
    }
   ],
   "source": [
    "star_wars[ranking_cols].hist();"
   ]
  },
  {
   "cell_type": "code",
   "execution_count": null,
   "metadata": {
    "collapsed": true
   },
   "outputs": [],
   "source": []
  }
 ],
 "metadata": {
  "kernelspec": {
   "display_name": "Python 3",
   "language": "python",
   "name": "python3"
  },
  "language_info": {
   "codemirror_mode": {
    "name": "ipython",
    "version": 3
   },
   "file_extension": ".py",
   "mimetype": "text/x-python",
   "name": "python",
   "nbconvert_exporter": "python",
   "pygments_lexer": "ipython3",
   "version": "3.4.3"
  }
 },
 "nbformat": 4,
 "nbformat_minor": 0
}
